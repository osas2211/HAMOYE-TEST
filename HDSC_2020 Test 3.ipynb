{
 "cells": [
  {
   "cell_type": "code",
   "execution_count": 2,
   "metadata": {},
   "outputs": [],
   "source": [
    "import pandas as pd\n",
    "import numpy as np\n",
    "from sklearn.metrics import recall_score,accuracy_score,precision_score,f1_score,confusion_matrix\n",
    "from sklearn.model_selection import train_test_split\n",
    "from sklearn.preprocessing import StandardScaler\n",
    "from sklearn.ensemble import RandomForestClassifier\n",
    "from xgboost import XGBClassifier \n",
    "from lightgbm import LGBMClassifier\n",
    "from sklearn.model_selection import RandomizedSearchCV\n",
    "from sklearn.ensemble import ExtraTreesClassifier\n"
   ]
  },
  {
   "cell_type": "code",
   "execution_count": 3,
   "metadata": {},
   "outputs": [
    {
     "name": "stdout",
     "output_type": "stream",
     "text": [
      "0.3177\n"
     ]
    }
   ],
   "source": [
    "TP = 355\n",
    "FP = 1480\n",
    "FN = 45 \n",
    "TN = 120\n",
    "\n",
    "precision  = TP / (TP + FP)  \n",
    "recall = TP / (TP + FN)    \n",
    "F1_score = 2 *((precision * recall)/(precision + recall))\n",
    "print(np.round(F1_score, 4))"
   ]
  },
  {
   "cell_type": "code",
   "execution_count": 5,
   "metadata": {},
   "outputs": [],
   "source": [
    "data=pd.read_csv('Data_for_UCI_named.csv')\n",
    "data=data.drop(columns=['stab'])"
   ]
  },
  {
   "cell_type": "code",
   "execution_count": 6,
   "metadata": {},
   "outputs": [],
   "source": [
    "x=data.drop(columns=['stabf'])\n",
    "y=data['stabf']\n",
    "x_train,x_test,y_train,y_test=train_test_split(x,y,test_size=0.2,random_state=1)\n",
    "sc=StandardScaler()\n",
    "standard_train_df=sc.fit_transform(x_train)\n",
    "standard_train_df=pd.DataFrame(standard_train_df,columns=x_train.columns)\n",
    "standard_test_df=sc.transform(x_test)\n",
    "standard_test_df=pd.DataFrame(standard_test_df,columns=x_test.columns)"
   ]
  },
  {
   "cell_type": "code",
   "execution_count": 7,
   "metadata": {},
   "outputs": [
    {
     "name": "stderr",
     "output_type": "stream",
     "text": [
      "C:\\Users\\Hp\\anaconda3\\lib\\site-packages\\sklearn\\ensemble\\forest.py:245: FutureWarning: The default value of n_estimators will change from 10 in version 0.20 to 100 in 0.22.\n",
      "  \"10 in version 0.20 to 100 in 0.22.\", FutureWarning)\n"
     ]
    },
    {
     "name": "stdout",
     "output_type": "stream",
     "text": [
      "0.8905\n"
     ]
    }
   ],
   "source": [
    "rfc=RandomForestClassifier(random_state=1)\n",
    "rfc.fit(standard_train_df,y_train)\n",
    "new_predictions=rfc.predict(standard_test_df)\n",
    "accuracy=accuracy_score(y_true=y_test,y_pred=new_predictions)\n",
    "print(round(accuracy,4))"
   ]
  },
  {
   "cell_type": "code",
   "execution_count": 8,
   "metadata": {},
   "outputs": [
    {
     "name": "stdout",
     "output_type": "stream",
     "text": [
      "0.9195\n"
     ]
    }
   ],
   "source": [
    "xgb=XGBClassifier(random_state=1,max_depth=3,learning_rate=0.1)\n",
    "xgb.fit(standard_train_df,y_train)\n",
    "new_predictions=xgb.predict(standard_test_df)\n",
    "accuracy=accuracy_score(y_true=y_test,y_pred=new_predictions)\n",
    "print(round(accuracy,4))"
   ]
  },
  {
   "cell_type": "code",
   "execution_count": 9,
   "metadata": {},
   "outputs": [
    {
     "name": "stdout",
     "output_type": "stream",
     "text": [
      "0.9375\n"
     ]
    }
   ],
   "source": [
    "lgbm=LGBMClassifier(random_state=1)\n",
    "lgbm.fit(standard_train_df,y_train)\n",
    "new_predictions=lgbm.predict(standard_test_df)\n",
    "accuracy=accuracy_score(y_true=y_test,y_pred=new_predictions)\n",
    "print(round(accuracy,4))"
   ]
  },
  {
   "cell_type": "code",
   "execution_count": 10,
   "metadata": {},
   "outputs": [
    {
     "name": "stdout",
     "output_type": "stream",
     "text": [
      "Fitting 5 folds for each of 10 candidates, totalling 50 fits\n"
     ]
    },
    {
     "name": "stderr",
     "output_type": "stream",
     "text": [
      "[Parallel(n_jobs=-1)]: Using backend LokyBackend with 4 concurrent workers.\n",
      "[Parallel(n_jobs=-1)]: Done  42 tasks      | elapsed:  1.7min\n",
      "[Parallel(n_jobs=-1)]: Done  50 out of  50 | elapsed:  1.8min finished\n"
     ]
    },
    {
     "name": "stdout",
     "output_type": "stream",
     "text": [
      "[[ 627   85]\n",
      " [  59 1229]]\n",
      "Accuracy: 93.0\n",
      "precision:94.0\n",
      "Recall:95.0\n",
      "F1:94.0\n"
     ]
    }
   ],
   "source": [
    "n_estimators = [50, 100, 300, 500, 1000]\n",
    "min_samples_split = [2, 3, 5, 7, 9]\n",
    "min_samples_leaf = [1, 2, 4, 6, 8]\n",
    "max_features = ['auto', 'sqrt', 'log2', None]\n",
    "hyperparameter_grid = {'n_estimators': n_estimators,'min_samples_leaf': min_samples_leaf,\n",
    "                       'min_samples_split': min_samples_split,'max_features': max_features}\n",
    "\n",
    "\n",
    "clf=RandomizedSearchCV(ExtraTreesClassifier(random_state=1),hyperparameter_grid,cv=5,\n",
    "                       n_iter=10,scoring='accuracy',n_jobs = -1,verbose = 1)\n",
    "\n",
    "clf.fit(standard_train_df,y_train)\n",
    "new_predictions=clf.predict(standard_test_df)\n",
    "cnf_mat=confusion_matrix(y_true=y_test,y_pred=new_predictions,labels=['stable','unstable'])\n",
    "print(cnf_mat)\n",
    "accuracy=accuracy_score(y_true=y_test,y_pred=new_predictions)\n",
    "print('Accuracy: {}'.format(round(accuracy*100),2))\n",
    "precision=precision_score(y_true=y_test,y_pred=new_predictions, pos_label='unstable')\n",
    "print('precision:{}'.format(round(precision*100),2))\n",
    "recall=recall_score(y_true=y_test,y_pred=new_predictions,pos_label='unstable')\n",
    "print('Recall:{}'.format(round(recall*100),2))\n",
    "f1=f1_score(y_true=y_test,y_pred=new_predictions,pos_label='unstable')\n",
    "print('F1:{}'.format(round(f1*100),2))"
   ]
  },
  {
   "cell_type": "code",
   "execution_count": 11,
   "metadata": {},
   "outputs": [
    {
     "name": "stderr",
     "output_type": "stream",
     "text": [
      "C:\\Users\\Hp\\anaconda3\\lib\\site-packages\\sklearn\\ensemble\\forest.py:245: FutureWarning: The default value of n_estimators will change from 10 in version 0.20 to 100 in 0.22.\n",
      "  \"10 in version 0.20 to 100 in 0.22.\", FutureWarning)\n"
     ]
    },
    {
     "name": "stdout",
     "output_type": "stream",
     "text": [
      "[[ 613   99]\n",
      " [ 118 1170]]\n",
      "Accuracy: 89.0\n",
      "precision:92.0\n",
      "Recall:91.0\n",
      "F1:92.0\n"
     ]
    }
   ],
   "source": [
    "etc=ExtraTreesClassifier(random_state=1)\n",
    "etc.fit(standard_train_df,y_train)\n",
    "new_predictions=etc.predict(standard_test_df)\n",
    "cnf_mat=confusion_matrix(y_true=y_test,y_pred=new_predictions,labels=['stable','unstable'])\n",
    "print(cnf_mat)\n",
    "#accuracy\n",
    "accuracy=accuracy_score(y_true=y_test,y_pred=new_predictions)\n",
    "print('Accuracy: {}'.format(round(accuracy*100),2))\n",
    "#precision\n",
    "precision=precision_score(y_true=y_test,y_pred=new_predictions, pos_label='unstable')\n",
    "print('precision:{}'.format(round(precision*100),2))\n",
    "#recall\n",
    "recall=recall_score(y_true=y_test,y_pred=new_predictions,pos_label='unstable')\n",
    "print('Recall:{}'.format(round(recall*100),2))\n",
    "#\n",
    "f1=f1_score(y_true=y_test,y_pred=new_predictions,pos_label='unstable')\n",
    "print('F1:{}'.format(round(f1*100),2))"
   ]
  },
  {
   "cell_type": "code",
   "execution_count": 12,
   "metadata": {},
   "outputs": [
    {
     "data": {
      "text/plain": [
       "p2      0.038902\n",
       "p1      0.041212\n",
       "p3      0.041281\n",
       "p4      0.041729\n",
       "g1      0.088652\n",
       "g4      0.094349\n",
       "g2      0.095335\n",
       "g3      0.097138\n",
       "tau3    0.108774\n",
       "tau4    0.114989\n",
       "tau2    0.118467\n",
       "tau1    0.119173\n",
       "dtype: float64"
      ]
     },
     "execution_count": 12,
     "metadata": {},
     "output_type": "execute_result"
    }
   ],
   "source": [
    "pd.Series(etc.feature_importances_,index=standard_train_df.columns).sort_values()"
   ]
  },
  {
   "cell_type": "code",
   "execution_count": null,
   "metadata": {},
   "outputs": [],
   "source": []
  }
 ],
 "metadata": {
  "kernelspec": {
   "display_name": "Python 3",
   "language": "python",
   "name": "python3"
  },
  "language_info": {
   "codemirror_mode": {
    "name": "ipython",
    "version": 3
   },
   "file_extension": ".py",
   "mimetype": "text/x-python",
   "name": "python",
   "nbconvert_exporter": "python",
   "pygments_lexer": "ipython3",
   "version": "3.7.6"
  }
 },
 "nbformat": 4,
 "nbformat_minor": 4
}
